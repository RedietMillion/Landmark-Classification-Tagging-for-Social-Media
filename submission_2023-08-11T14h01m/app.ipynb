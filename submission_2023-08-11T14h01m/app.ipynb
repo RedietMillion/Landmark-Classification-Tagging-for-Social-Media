{
 "cells": [
  {
   "cell_type": "markdown",
   "id": "61942fc5",
   "metadata": {},
   "source": [
    "# Convolutional Neural Networks\n",
    "\n",
    "## Project: Write an Algorithm for Landmark Classification\n",
    "\n",
    "### A simple app\n",
    "\n",
    "In this notebook we build a very simple app that uses our exported model.\n",
    "\n",
    "> <img src=\"static_images/icons/noun-info-2558213.png\" alt=\"?\" style=\"width:25px\"/> Note how we are not importing anything from our source code (we do not use any module from the ``src`` directory). This is because the exported model, differently from the model weights, is a standalone serialization of our model and therefore it does not need anything else. You can ship that file to anybody, and as long as they can import ``torch``, they will be able to use your model. This is very important for releasing pytorch models to production.\n",
    "\n",
    "### Test your app\n",
    "Go to a search engine for images (like Google Images) and search for images of some of the landmarks, like the Eiffel Tower, the Golden Gate Bridge, Machu Picchu and so on. Save a few examples locally, then upload them to your app to see how your model behaves!\n",
    "\n",
    "The app will show the top 5 classes that the model think are most relevant for the picture you have uploaded"
   ]
  },
  {
   "cell_type": "code",
   "execution_count": 8,
   "id": "b089f7f9",
   "metadata": {},
   "outputs": [
    {
     "data": {
      "application/vnd.jupyter.widget-view+json": {
       "model_id": "76ad2030c7ab4ab4a1bc7cea9c8847a7",
       "version_major": 2,
       "version_minor": 0
      },
      "text/plain": [
       "VBox(children=(Label(value='Please upload a picture of a landmark'), FileUpload(value=(), description='Upload'…"
      ]
     },
     "execution_count": 8,
     "metadata": {},
     "output_type": "execute_result"
    }
   ],
   "source": [
    "from ipywidgets import VBox, Button, FileUpload, Output, Label\n",
    "from PIL import Image\n",
    "from IPython.display import display\n",
    "import io\n",
    "import numpy as np\n",
    "import torchvision\n",
    "import torchvision.transforms as T\n",
    "import torch\n",
    "\n",
    "# Decide which model you want to use among the ones exported\n",
    "learn_inf = torch.jit.load(\"checkpoints/transfer_exported.pt\")\n",
    "\n",
    "def on_click_classify(change):\n",
    "\n",
    "    # Load image that has been uploaded\n",
    "    fn = io.BytesIO(btn_upload.value[0]['content'])\n",
    "\n",
    "    img = Image.open(fn)\n",
    "    img.load()\n",
    "\n",
    "    # Let's clear the previous output (if any)\n",
    "    out_pl.clear_output()\n",
    "\n",
    "    # Display the image\n",
    "    with out_pl:\n",
    "\n",
    "        ratio = img.size[0] / img.size[1]\n",
    "        c = img.copy()\n",
    "        c.thumbnail([ratio * 200, 200])\n",
    "        display(c)\n",
    "\n",
    "    # Transform to tensor\n",
    "    timg = T.ToTensor()(img).unsqueeze_(0)\n",
    "\n",
    "    # Calling the model\n",
    "    softmax = learn_inf(timg).data.cpu().numpy().squeeze()\n",
    "    \n",
    "    # Get the indexes of the classes ordered by softmax\n",
    "    # (larger first)\n",
    "    idxs = np.argsort(softmax)[::-1]\n",
    "    \n",
    "    # Loop over the classes with the largest softmax\n",
    "    for i in range(5):\n",
    "        # Get softmax value\n",
    "        p = softmax[idxs[i]]\n",
    "    \n",
    "        # Get class name\n",
    "        landmark_name = learn_inf.class_names[idxs[i]]\n",
    "        \n",
    "        labels[i].value = f\"{landmark_name} (prob: {p:.2f})\"\n",
    "\n",
    "\n",
    "# Putting back btn_upload to a widget for next cell\n",
    "btn_upload = FileUpload()\n",
    "\n",
    "btn_run = Button(description=\"Classify\")\n",
    "btn_run.on_click(on_click_classify)\n",
    "\n",
    "labels = []\n",
    "for _ in range(5):\n",
    "    labels.append(Label())\n",
    "\n",
    "out_pl = Output()\n",
    "out_pl.clear_output()\n",
    "\n",
    "wgs = [Label(\"Please upload a picture of a landmark\"), btn_upload, btn_run, out_pl]\n",
    "wgs.extend(labels)\n",
    "\n",
    "VBox(wgs)"
   ]
  },
  {
   "cell_type": "markdown",
   "id": "2d8d0e5d",
   "metadata": {},
   "source": [
    "## (optional) Standalone app or web app\n",
    "\n",
    "You can run this notebook as a standalone app on your computer by following these steps:\n",
    "\n",
    "1. Download this notebook in a directory on your machine\n",
    "2. Download the model export (for example, ``checkpoints/transfer_exported.pt``) in a subdirectory called ``checkpoints`` within the directory where you save the app.ipynb notebook\n",
    "3. Install voila if you don't have it already (``pip install voila``)\n",
    "4. Run your app: ``voila app.ipynb --show_tracebacks=True``\n",
    "5. Customize your notebook to make your app prettier and rerun voila\n",
    "\n",
    "You can also deploy this app as a website using Binder: https://voila.readthedocs.io/en/stable/deploy.html#deployment-on-binder"
   ]
  },
  {
   "cell_type": "code",
   "execution_count": 9,
   "id": "46f939d3",
   "metadata": {},
   "outputs": [
    {
     "name": "stdout",
     "output_type": "stream",
     "text": [
      "Collecting voila\n",
      "  Downloading voila-0.4.3-py3-none-any.whl (1.4 MB)\n",
      "\u001b[2K     \u001b[90m━━━━━━━━━━━━━━━━━━━━━━━━━━━━━━━━━━━━━━━━\u001b[0m \u001b[32m1.4/1.4 MB\u001b[0m \u001b[31m978.0 kB/s\u001b[0m eta \u001b[36m0:00:00\u001b[0m:01\u001b[0m0:00:01\u001b[0m\n",
      "\u001b[?25hRequirement already satisfied: jupyter-client<9,>=6.1.3 in /Users/wondwossendebalkie/miniconda3/lib/python3.10/site-packages (from voila) (8.1.0)\n",
      "Requirement already satisfied: jupyter-core>=4.11.0 in /Users/wondwossendebalkie/miniconda3/lib/python3.10/site-packages (from voila) (5.3.0)\n",
      "Requirement already satisfied: jupyter-server<3,>=1.18 in /Users/wondwossendebalkie/miniconda3/lib/python3.10/site-packages (from voila) (1.23.4)\n",
      "Requirement already satisfied: jupyterlab-server<3,>=2.3.0 in /Users/wondwossendebalkie/miniconda3/lib/python3.10/site-packages (from voila) (2.21.0)\n",
      "Requirement already satisfied: nbclient<0.8,>=0.4.0 in /Users/wondwossendebalkie/miniconda3/lib/python3.10/site-packages (from voila) (0.5.13)\n",
      "Collecting nbconvert<8,>=6.4.5 (from voila)\n",
      "  Downloading nbconvert-7.7.3-py3-none-any.whl (254 kB)\n",
      "\u001b[2K     \u001b[90m━━━━━━━━━━━━━━━━━━━━━━━━━━━━━━━━━━━━━━━\u001b[0m \u001b[32m254.7/254.7 kB\u001b[0m \u001b[31m1.3 MB/s\u001b[0m eta \u001b[36m0:00:00\u001b[0ma \u001b[36m0:00:01\u001b[0m\n",
      "\u001b[?25hRequirement already satisfied: traitlets<6,>=5.0.3 in /Users/wondwossendebalkie/miniconda3/lib/python3.10/site-packages (from voila) (5.7.1)\n",
      "Collecting websockets>=9.0 (from voila)\n",
      "  Downloading websockets-11.0.3-cp310-cp310-macosx_11_0_arm64.whl (121 kB)\n",
      "\u001b[2K     \u001b[90m━━━━━━━━━━━━━━━━━━━━━━━━━━━━━━━━━━━━━━━\u001b[0m \u001b[32m121.0/121.0 kB\u001b[0m \u001b[31m1.1 MB/s\u001b[0m eta \u001b[36m0:00:00\u001b[0ma \u001b[36m0:00:01\u001b[0m\n",
      "\u001b[?25hRequirement already satisfied: python-dateutil>=2.8.2 in /Users/wondwossendebalkie/miniconda3/lib/python3.10/site-packages (from jupyter-client<9,>=6.1.3->voila) (2.8.2)\n",
      "Requirement already satisfied: pyzmq>=23.0 in /Users/wondwossendebalkie/miniconda3/lib/python3.10/site-packages (from jupyter-client<9,>=6.1.3->voila) (23.2.0)\n",
      "Requirement already satisfied: tornado>=6.2 in /Users/wondwossendebalkie/miniconda3/lib/python3.10/site-packages (from jupyter-client<9,>=6.1.3->voila) (6.2)\n",
      "Requirement already satisfied: platformdirs>=2.5 in /Users/wondwossendebalkie/miniconda3/lib/python3.10/site-packages (from jupyter-core>=4.11.0->voila) (3.5.1)\n",
      "Requirement already satisfied: anyio<4,>=3.1.0 in /Users/wondwossendebalkie/miniconda3/lib/python3.10/site-packages (from jupyter-server<3,>=1.18->voila) (3.5.0)\n",
      "Requirement already satisfied: argon2-cffi in /Users/wondwossendebalkie/miniconda3/lib/python3.10/site-packages (from jupyter-server<3,>=1.18->voila) (21.3.0)\n",
      "Requirement already satisfied: jinja2 in /Users/wondwossendebalkie/miniconda3/lib/python3.10/site-packages (from jupyter-server<3,>=1.18->voila) (3.1.2)\n",
      "Requirement already satisfied: nbformat>=5.2.0 in /Users/wondwossendebalkie/miniconda3/lib/python3.10/site-packages (from jupyter-server<3,>=1.18->voila) (5.7.0)\n",
      "Requirement already satisfied: packaging in /Users/wondwossendebalkie/miniconda3/lib/python3.10/site-packages (from jupyter-server<3,>=1.18->voila) (23.0)\n",
      "Requirement already satisfied: prometheus-client in /Users/wondwossendebalkie/miniconda3/lib/python3.10/site-packages (from jupyter-server<3,>=1.18->voila) (0.14.1)\n",
      "Requirement already satisfied: Send2Trash in /Users/wondwossendebalkie/miniconda3/lib/python3.10/site-packages (from jupyter-server<3,>=1.18->voila) (1.8.0)\n",
      "Requirement already satisfied: terminado>=0.8.3 in /Users/wondwossendebalkie/miniconda3/lib/python3.10/site-packages (from jupyter-server<3,>=1.18->voila) (0.17.1)\n",
      "Requirement already satisfied: websocket-client in /Users/wondwossendebalkie/miniconda3/lib/python3.10/site-packages (from jupyter-server<3,>=1.18->voila) (0.58.0)\n",
      "Requirement already satisfied: babel>=2.10 in /Users/wondwossendebalkie/miniconda3/lib/python3.10/site-packages (from jupyterlab-server<3,>=2.3.0->voila) (2.11.0)\n",
      "Requirement already satisfied: json5>=0.9.0 in /Users/wondwossendebalkie/miniconda3/lib/python3.10/site-packages (from jupyterlab-server<3,>=2.3.0->voila) (0.9.6)\n",
      "Requirement already satisfied: jsonschema>=4.17.3 in /Users/wondwossendebalkie/miniconda3/lib/python3.10/site-packages (from jupyterlab-server<3,>=2.3.0->voila) (4.17.3)\n",
      "Requirement already satisfied: requests>=2.28 in /Users/wondwossendebalkie/miniconda3/lib/python3.10/site-packages (from jupyterlab-server<3,>=2.3.0->voila) (2.28.1)\n",
      "Requirement already satisfied: nest-asyncio in /Users/wondwossendebalkie/miniconda3/lib/python3.10/site-packages (from nbclient<0.8,>=0.4.0->voila) (1.5.6)\n",
      "Requirement already satisfied: beautifulsoup4 in /Users/wondwossendebalkie/miniconda3/lib/python3.10/site-packages (from nbconvert<8,>=6.4.5->voila) (4.12.0)\n",
      "Requirement already satisfied: bleach!=5.0.0 in /Users/wondwossendebalkie/miniconda3/lib/python3.10/site-packages (from nbconvert<8,>=6.4.5->voila) (4.1.0)\n",
      "Requirement already satisfied: defusedxml in /Users/wondwossendebalkie/miniconda3/lib/python3.10/site-packages (from nbconvert<8,>=6.4.5->voila) (0.7.1)\n",
      "Requirement already satisfied: jupyterlab-pygments in /Users/wondwossendebalkie/miniconda3/lib/python3.10/site-packages (from nbconvert<8,>=6.4.5->voila) (0.1.2)\n",
      "Requirement already satisfied: markupsafe>=2.0 in /Users/wondwossendebalkie/miniconda3/lib/python3.10/site-packages (from nbconvert<8,>=6.4.5->voila) (2.1.1)\n",
      "Collecting mistune<4,>=2.0.3 (from nbconvert<8,>=6.4.5->voila)\n",
      "  Downloading mistune-3.0.1-py3-none-any.whl (47 kB)\n",
      "\u001b[2K     \u001b[90m━━━━━━━━━━━━━━━━━━━━━━━━━━━━━━━━━━━━━━━\u001b[0m \u001b[32m48.0/48.0 kB\u001b[0m \u001b[31m864.4 kB/s\u001b[0m eta \u001b[36m0:00:00\u001b[0m \u001b[36m0:00:01\u001b[0m\n",
      "\u001b[?25hRequirement already satisfied: pandocfilters>=1.4.1 in /Users/wondwossendebalkie/miniconda3/lib/python3.10/site-packages (from nbconvert<8,>=6.4.5->voila) (1.5.0)\n",
      "Requirement already satisfied: pygments>=2.4.1 in /Users/wondwossendebalkie/miniconda3/lib/python3.10/site-packages (from nbconvert<8,>=6.4.5->voila) (2.15.1)\n",
      "Collecting tinycss2 (from nbconvert<8,>=6.4.5->voila)\n",
      "  Using cached tinycss2-1.2.1-py3-none-any.whl (21 kB)\n",
      "Requirement already satisfied: idna>=2.8 in /Users/wondwossendebalkie/miniconda3/lib/python3.10/site-packages (from anyio<4,>=3.1.0->jupyter-server<3,>=1.18->voila) (3.4)\n",
      "Requirement already satisfied: sniffio>=1.1 in /Users/wondwossendebalkie/miniconda3/lib/python3.10/site-packages (from anyio<4,>=3.1.0->jupyter-server<3,>=1.18->voila) (1.2.0)\n",
      "Requirement already satisfied: pytz>=2015.7 in /Users/wondwossendebalkie/miniconda3/lib/python3.10/site-packages (from babel>=2.10->jupyterlab-server<3,>=2.3.0->voila) (2022.7)\n",
      "Requirement already satisfied: six>=1.9.0 in /Users/wondwossendebalkie/miniconda3/lib/python3.10/site-packages (from bleach!=5.0.0->nbconvert<8,>=6.4.5->voila) (1.16.0)\n",
      "Requirement already satisfied: webencodings in /Users/wondwossendebalkie/miniconda3/lib/python3.10/site-packages (from bleach!=5.0.0->nbconvert<8,>=6.4.5->voila) (0.5.1)\n",
      "Requirement already satisfied: attrs>=17.4.0 in /Users/wondwossendebalkie/miniconda3/lib/python3.10/site-packages (from jsonschema>=4.17.3->jupyterlab-server<3,>=2.3.0->voila) (22.1.0)\n",
      "Requirement already satisfied: pyrsistent!=0.17.0,!=0.17.1,!=0.17.2,>=0.14.0 in /Users/wondwossendebalkie/miniconda3/lib/python3.10/site-packages (from jsonschema>=4.17.3->jupyterlab-server<3,>=2.3.0->voila) (0.18.0)\n",
      "Requirement already satisfied: fastjsonschema in /Users/wondwossendebalkie/miniconda3/lib/python3.10/site-packages (from nbformat>=5.2.0->jupyter-server<3,>=1.18->voila) (2.16.2)\n",
      "Requirement already satisfied: charset-normalizer<3,>=2 in /Users/wondwossendebalkie/miniconda3/lib/python3.10/site-packages (from requests>=2.28->jupyterlab-server<3,>=2.3.0->voila) (2.0.4)\n",
      "Requirement already satisfied: urllib3<1.27,>=1.21.1 in /Users/wondwossendebalkie/miniconda3/lib/python3.10/site-packages (from requests>=2.28->jupyterlab-server<3,>=2.3.0->voila) (1.26.15)\n",
      "Requirement already satisfied: certifi>=2017.4.17 in /Users/wondwossendebalkie/miniconda3/lib/python3.10/site-packages (from requests>=2.28->jupyterlab-server<3,>=2.3.0->voila) (2023.5.7)\n",
      "Requirement already satisfied: ptyprocess in /Users/wondwossendebalkie/miniconda3/lib/python3.10/site-packages (from terminado>=0.8.3->jupyter-server<3,>=1.18->voila) (0.7.0)\n",
      "Requirement already satisfied: argon2-cffi-bindings in /Users/wondwossendebalkie/miniconda3/lib/python3.10/site-packages (from argon2-cffi->jupyter-server<3,>=1.18->voila) (21.2.0)\n"
     ]
    },
    {
     "name": "stdout",
     "output_type": "stream",
     "text": [
      "Requirement already satisfied: soupsieve>1.2 in /Users/wondwossendebalkie/miniconda3/lib/python3.10/site-packages (from beautifulsoup4->nbconvert<8,>=6.4.5->voila) (2.4)\n",
      "Requirement already satisfied: cffi>=1.0.1 in /Users/wondwossendebalkie/miniconda3/lib/python3.10/site-packages (from argon2-cffi-bindings->argon2-cffi->jupyter-server<3,>=1.18->voila) (1.15.1)\n",
      "Requirement already satisfied: pycparser in /Users/wondwossendebalkie/miniconda3/lib/python3.10/site-packages (from cffi>=1.0.1->argon2-cffi-bindings->argon2-cffi->jupyter-server<3,>=1.18->voila) (2.21)\n",
      "Installing collected packages: websockets, tinycss2, mistune, nbconvert, voila\n",
      "  Attempting uninstall: mistune\n",
      "    Found existing installation: mistune 0.8.4\n",
      "    Uninstalling mistune-0.8.4:\n",
      "      Successfully uninstalled mistune-0.8.4\n",
      "  Attempting uninstall: nbconvert\n",
      "    Found existing installation: nbconvert 6.4.4\n",
      "    Uninstalling nbconvert-6.4.4:\n",
      "      Successfully uninstalled nbconvert-6.4.4\n",
      "Successfully installed mistune-3.0.1 nbconvert-7.7.3 tinycss2-1.2.1 voila-0.4.3 websockets-11.0.3\n",
      "\n",
      "\u001b[1m[\u001b[0m\u001b[34;49mnotice\u001b[0m\u001b[1;39;49m]\u001b[0m\u001b[39;49m A new release of pip is available: \u001b[0m\u001b[31;49m23.1.2\u001b[0m\u001b[39;49m -> \u001b[0m\u001b[32;49m23.2.1\u001b[0m\n",
      "\u001b[1m[\u001b[0m\u001b[34;49mnotice\u001b[0m\u001b[1;39;49m]\u001b[0m\u001b[39;49m To update, run: \u001b[0m\u001b[32;49mpip install --upgrade pip\u001b[0m\n"
     ]
    }
   ],
   "source": [
    "!pip install voila"
   ]
  },
  {
   "cell_type": "markdown",
   "id": "66b139d6",
   "metadata": {},
   "source": [
    "# Create your submission archive\n",
    "\n",
    "Now that you are done with your project, please run the following cell. It will generate a file containing all the code you have written, as well as the notebooks. Please submit that file to complete your project"
   ]
  },
  {
   "cell_type": "code",
   "execution_count": null,
   "id": "0d8848b5",
   "metadata": {},
   "outputs": [],
   "source": [
    "!python src/create_submit_pkg.py"
   ]
  },
  {
   "cell_type": "code",
   "execution_count": null,
   "id": "dcf219eb",
   "metadata": {},
   "outputs": [],
   "source": []
  }
 ],
 "metadata": {
  "kernelspec": {
   "display_name": "Python 3 (ipykernel)",
   "language": "python",
   "name": "python3"
  },
  "language_info": {
   "codemirror_mode": {
    "name": "ipython",
    "version": 3
   },
   "file_extension": ".py",
   "mimetype": "text/x-python",
   "name": "python",
   "nbconvert_exporter": "python",
   "pygments_lexer": "ipython3",
   "version": "3.10.9"
  },
  "widgets": {
   "application/vnd.jupyter.widget-state+json": {
    "state": {},
    "version_major": 2,
    "version_minor": 0
   }
  }
 },
 "nbformat": 4,
 "nbformat_minor": 5
}
